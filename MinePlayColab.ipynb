{
  "cells": [
    {
      "cell_type": "markdown",
      "metadata": {
        "id": "view-in-github",
        "colab_type": "text"
      },
      "source": [
        "<a href=\"https://colab.research.google.com/github/LBY-L/MinePlayColab/blob/main/MinePlayColab.ipynb\" target=\"_parent\"><img src=\"https://colab.research.google.com/assets/colab-badge.svg\" alt=\"Open In Colab\"/></a>"
      ]
    },
    {
      "cell_type": "code",
      "source": [
        "#@title # **MinePlay Colab** { display-mode: \"form\" }\n",
        "from IPython.core.display import display, HTML\n",
        "display(HTML('<h1 style=\"text-align: center;\"><span style=\"text-align: center;\"><img style=\"display: block; margin-left: auto; margin-right: auto;\" src=\"https://github.com/LBY-L/MinePlayColab/raw/main/Minecraft_in_colab-removebg-preview.png\" alt=\"Logo\" width=\"210\" height=\"210\" /></span></h1><p>&nbsp;</p><hr /><h1 style=\"text-align: center;\"><span style=\"color: #ffcc99;\"><strong><a style=\"color: #ffcc99;\" title=\"Github Project\" href=\"https://github.com/LBY-L/MinePlayColab\" target=\"_blank\" rel=\"noopener\">Github Project</a></strong></span></h1><h2 style=\"text-align: center;\"><span style=\"color: #ffcc99;\"><a style=\"color: #ffcc99;\" title=\"Source Code\" href=\"https://github.com/LBY-L/MinePlayColab-package\" target=\"_blank\" rel=\"noopener\">Source Code</a></span></h2><p style=\"text-align: center;\">&nbsp;</p>'))"
      ],
      "metadata": {
        "colab": {
          "base_uri": "https://localhost:8080/",
          "height": 404
        },
        "id": "RPt7LB_GXu4J",
        "outputId": "2c0dca6a-4744-4142-f9d6-f9837f33b37b"
      },
      "execution_count": null,
      "outputs": [
        {
          "output_type": "display_data",
          "data": {
            "text/plain": [
              "<IPython.core.display.HTML object>"
            ],
            "text/html": [
              "<h1 style=\"text-align: center;\"><span style=\"text-align: center;\"><img style=\"display: block; margin-left: auto; margin-right: auto;\" src=\"https://github.com/LBY-L/MinePlayColab/raw/main/Minecraft_in_colab-removebg-preview.png\" alt=\"Logo\" width=\"210\" height=\"210\" /></span></h1><p>&nbsp;</p><hr /><h1 style=\"text-align: center;\"><span style=\"color: #ffcc99;\"><strong><a style=\"color: #ffcc99;\" title=\"Github Project\" href=\"https://github.com/LBY-L/MinePlayColab\" target=\"_blank\" rel=\"noopener\">Github Project</a></strong></span></h1><h2 style=\"text-align: center;\"><span style=\"color: #ffcc99;\"><a style=\"color: #ffcc99;\" title=\"Source Code\" href=\"https://github.com/LBY-L/MinePlayColab-package\" target=\"_blank\" rel=\"noopener\">Source Code</a></span></h2><p style=\"text-align: center;\">&nbsp;</p>"
            ]
          },
          "metadata": {}
        }
      ]
    },
    {
      "cell_type": "code",
      "execution_count": null,
      "metadata": {
        "id": "zl4pMVQZcp5H",
        "cellView": "form"
      },
      "outputs": [],
      "source": [
        "\n",
        "#@markdown #### **Here put your ngrok token, if you haven't it, get it [here](https://dashboard.ngrok.com/get-started/your-authtoken)** \n",
        "\n",
        "token = \"\" #@param {type:\"string\"}\n",
        "\n",
        "#@markdown #### **Here is the region where is will be hosted your minecraft**\n",
        "\n",
        "#@markdown * #### `us` - United States (Ohio)\n",
        "\n",
        "#@markdown * #### `eu` - Europe (Frankfurt)\n",
        "\n",
        "#@markdown * #### `ap` - Asia/Pacific (Singapore)\n",
        "\n",
        "#@markdown * #### `au` - Australia (Sydney)\n",
        "\n",
        "#@markdown * #### `sa` - South America (Sao Paulo)\n",
        "\n",
        "#@markdown * #### `jp` - Japan (Tokyo)\n",
        "\n",
        "#@markdown * #### `in` - India (Mumbai)\n",
        "\n",
        "region = \"us\" #@param [\"us\", \"eu\", \"ap\", \"au\", \"sa\", \"jp\", \"in\"]\n",
        "\n",
        "#@markdown # **Connect**\n",
        "\n",
        "#@markdown #### You need connect by ssh, first copy & paste the command of ssh & after copy the key and paste.\n",
        "\n",
        "#@markdown #### Before you need download [TurboVNC](https://turbovnc.org/) & after put in `VNC server` section this `localhost:1` & after put the password of below.\n",
        "\n",
        "#@markdown If you has been executed this cell you need finalize the session to set up oher time\n",
        "\n",
        "# Get google drive storage\n",
        "from google.colab import drive\n",
        "drive.mount('/content/drive')\n",
        "\n",
        "# Start remocolab\n",
        "!pip install git+https://github.com/LBY-L/MinePlayColab-package.git > /dev/null\n",
        "import remocolab\n",
        "from IPython.display import clear_output\n",
        "clear_output()\n",
        "from IPython.core.display import display, HTML\n",
        "display(HTML('<h1 style=\"text-align: center;\"><span style=\"text-align: center;\"><img style=\"display: block; margin-left: auto; margin-right: auto;\" src=\"https://github.com/LBY-L/MinePlayColab/raw/main/Minecraft_in_colab-removebg-preview.png\" alt=\"Logo\" width=\"210\" height=\"210\" /></span></h1><p>&nbsp;</p><hr /><h1 style=\"text-align: center;\"><span style=\"color: #ffcc99;\"><strong><a style=\"color: #ffcc99;\" title=\"Github Project\" href=\"https://github.com/LBY-L/MinePlayColab\" target=\"_blank\" rel=\"noopener\">Github Project</a></strong></span></h1><h2 style=\"text-align: center;\"><span style=\"color: #ffcc99;\"><a style=\"color: #ffcc99;\" title=\"Source Code\" href=\"https://github.com/LBY-L/MinePlayColab-package\" target=\"_blank\" rel=\"noopener\">Source Code</a></span></h2><p style=\"text-align: center;\">&nbsp;</p>'))\n",
        "remocolab.setupVNC(tunnel = \"ngrok\", ngrok_token = token, ngrok_region = region, mount_gdrive_to = \"Your Drive\", mount_gdrive_from = \"My Drive\")\n",
        "display(HTML('<hr /><h2 style=\"text-align: center;\"><span style=\"color: #ffcc99;\"><strong>Only you need copy this like instructions indicated</strong></span></h2><h1 style=\"text-align: center;\"><strong><span style=\"color: #ffcc99;\">&darr;</span></strong></h1><h1 class=\"layout grow\" style=\"text-align: center;\"><img src=\"https://github.com/LBY-L/MinePlayColab-package/blob/main/CONNECT-3-12-2022.png?raw=true\" alt=\"\" width=\"189\" height=\"63\" /></h1><hr /><h2 class=\"layout grow\" style=\"text-align: center;\"><img src=\"https://github.com/LBY-L/MinePlayColab-package/blob/main/You-need-connect-by-ssh-first-3-12-2022-1.png?raw=true\" alt=\"\" width=\"651\" height=\"260\" /></h2><p>&nbsp;</p>'))\n",
        "\n",
        "# Make icon MultiMC 5\n",
        "!sleep 5\n",
        "%cd /home/colab\n",
        "%cd Desktop\n",
        "!touch 'MultiMC 5.desktop'\n",
        "!chmod +x 'MultiMC 5.desktop'\n",
        "!echo '[Desktop Entry]' >> 'MultiMC 5.desktop'\n",
        "!echo 'Version=1.0' >> 'MultiMC 5.desktop'\n",
        "!echo 'Type=Application' >> 'MultiMC 5.desktop'\n",
        "!echo 'Name=MultiMC 5' >> 'MultiMC 5.desktop'\n",
        "!echo 'Comment=' >> 'MultiMC 5.desktop'\n",
        "!echo 'Exec=/opt/multimc/run.sh' >> 'MultiMC 5.desktop'\n",
        "!echo 'Icon=/opt/multimc/icon.svg' >> 'MultiMC 5.desktop'\n",
        "!echo 'Path=' >> 'MultiMC 5.desktop'\n",
        "!echo 'Terminal=false' >> 'MultiMC 5.desktop'\n",
        "!echo 'StartupNotify=true' >> 'MultiMC 5.desktop'"
      ]
    }
  ],
  "metadata": {
    "accelerator": "GPU",
    "colab": {
      "provenance": [],
      "mount_file_id": "1FOgmryS5Ck8lfNnvXh8stnyFbeW-AfKg",
      "authorship_tag": "ABX9TyPxR6xo5AxAH25Sfwu4ars4",
      "include_colab_link": true
    },
    "gpuClass": "standard",
    "kernelspec": {
      "display_name": "Python 3",
      "name": "python3"
    },
    "language_info": {
      "name": "python"
    }
  },
  "nbformat": 4,
  "nbformat_minor": 0
}